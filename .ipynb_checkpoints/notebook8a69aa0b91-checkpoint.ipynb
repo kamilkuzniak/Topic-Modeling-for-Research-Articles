{
 "cells": [
  {
   "cell_type": "code",
   "execution_count": 1,
   "metadata": {
    "_cell_guid": "b1076dfc-b9ad-4769-8c92-a6c4dae69d19",
    "_uuid": "8f2839f25d086af736a60e9eeb907d3b93b6e0e5"
   },
   "outputs": [
    {
     "name": "stdout",
     "output_type": "stream",
     "text": [
      "/kaggle/input/preds-hacklive-nlp/preds_distilbert.csv\n",
      "/kaggle/input/preds-hacklive-nlp/preds_bert_base.csv\n",
      "/kaggle/input/preds-hacklive-nlp/preds_roberta_lrg.csv\n",
      "/kaggle/input/preds-hacklive-nlp/preds_electra_base.csv\n",
      "/kaggle/input/preds-hacklive-nlp/preds_xlmroberta_base.csv\n",
      "/kaggle/input/preds-hacklive-nlp/preds_bert_lrg.csv\n",
      "/kaggle/input/preds-hacklive-nlp/preds_roberta_base.csv\n",
      "/kaggle/input/hacklive-nlp/Test_nlp.csv\n",
      "/kaggle/input/hacklive-nlp/Train_nlp.csv\n",
      "/kaggle/input/hacklive-nlp/SampleSubmission_nlp.csv\n",
      "/kaggle/input/hacklive-nlp/Tags_nlp.csv\n",
      "/kaggle/input/out-of-fold-results-hacklive-nlp/oofs_roberta_base.csv\n",
      "/kaggle/input/out-of-fold-results-hacklive-nlp/oofs_xlmroberta_base.csv\n",
      "/kaggle/input/out-of-fold-results-hacklive-nlp/oofs_bert_lrg.csv\n",
      "/kaggle/input/out-of-fold-results-hacklive-nlp/oofs_bert_base.csv\n",
      "/kaggle/input/out-of-fold-results-hacklive-nlp/oofs_roberta_lrg.csv\n",
      "/kaggle/input/out-of-fold-results-hacklive-nlp/oofs_electra_base.csv\n",
      "/kaggle/input/out-of-fold-results-hacklive-nlp/oofs_distilbert.csv\n"
     ]
    }
   ],
   "source": [
    "# This Python 3 environment comes with many helpful analytics libraries installed\n",
    "# It is defined by the kaggle/python Docker image: https://github.com/kaggle/docker-python\n",
    "# For example, here's several helpful packages to load\n",
    "\n",
    "import numpy as np # linear algebra\n",
    "import pandas as pd # data processing, CSV file I/O (e.g. pd.read_csv)\n",
    "\n",
    "# Input data files are available in the read-only \"../input/\" directory\n",
    "# For example, running this (by clicking run or pressing Shift+Enter) will list all files under the input directory\n",
    "\n",
    "import os\n",
    "for dirname, _, filenames in os.walk('/kaggle/input'):\n",
    "    for filename in filenames:\n",
    "        print(os.path.join(dirname, filename))\n",
    "\n",
    "# You can write up to 5GB to the current directory (/kaggle/working/) that gets preserved as output when you create a version using \"Save & Run All\" \n",
    "# You can also write temporary files to /kaggle/temp/, but they won't be saved outside of the current session"
   ]
  },
  {
   "cell_type": "code",
   "execution_count": 45,
   "metadata": {
    "_cell_guid": "79c7e3d0-c299-4dcb-8224-4455121ee9b0",
    "_uuid": "d629ff2d2480ee46fbb7e2d37f6b5fab8052498a"
   },
   "outputs": [],
   "source": [
    "import numpy as np\n",
    "import pandas as pd\n",
    "import matplotlib.pyplot as plt\n",
    "%matplotlib inline\n",
    "import seaborn as sns\n",
    "sns.set_style('darkgrid')\n",
    "\n",
    "from sklearn.model_selection import train_test_split, StratifiedKFold\n",
    "from sklearn.metrics import accuracy_score, f1_score\n",
    "from sklearn.model_selection import KFold, train_test_split\n",
    "\n",
    "from sklearn.linear_model import LogisticRegression\n",
    "from sklearn.tree import DecisionTreeClassifier\n",
    "from sklearn.naive_bayes import GaussianNB\n",
    "from sklearn.multiclass import OneVsRestClassifier\n",
    "\n",
    "from sklearn.feature_extraction.text import CountVectorizer, TfidfVectorizer\n",
    "\n",
    "from wordcloud import WordCloud, STOPWORDS\n",
    "\n",
    "from lightgbm import LGBMRegressor\n",
    "from catboost import CatBoostRegressor\n",
    "import xgboost as xgb\n",
    "#import lightgbm as lgb\n",
    "\n",
    "import tensorflow as tf\n",
    "from tensorflow.keras.models import Sequential\n",
    "from tensorflow.keras.layers import Embedding, Flatten, Dense, Dropout, SpatialDropout1D, LSTM, Bidirectional\n",
    "\n",
    "from keras.callbacks import ModelCheckpoint, EarlyStopping\n",
    "\n",
    "from IPython.core.interactiveshell import InteractiveShell\n",
    "InteractiveShell.ast_node_interactivity = \"all\"\n",
    "\n",
    "import os\n",
    "\n",
    "import warnings\n",
    "warnings.simplefilter('ignore')"
   ]
  },
  {
   "cell_type": "code",
   "execution_count": 46,
   "metadata": {},
   "outputs": [],
   "source": [
    "def run_gradient_boosting(clf, fit_params, train, test, features, target_col, N_SPLITS = 5):\n",
    "    #oof - out of fold\n",
    "    oofs = np.zeros(len(train))\n",
    "    preds = np.zeros(len(test))\n",
    "\n",
    "    target = target_col\n",
    "\n",
    "    folds = StratifiedKFold(n_splits = N_SPLITS)\n",
    "    stratified_target = pd.qcut(target, 10, labels = False, duplicates='drop')\n",
    "\n",
    "    feature_importances = pd.DataFrame()\n",
    "\n",
    "    for fold_, (trn_idx, val_idx) in enumerate(folds.split(train, stratified_target)):\n",
    "        print(f'\\n------------- Fold {fold_ + 1} -------------')\n",
    "\n",
    "        ### Training Set\n",
    "        X_trn, y_trn = train[features].iloc[trn_idx], target.iloc[trn_idx]\n",
    "\n",
    "        ### Validation Set\n",
    "        X_val, y_val = train[features].iloc[val_idx], target.iloc[val_idx]\n",
    "\n",
    "        ### Test Set\n",
    "        X_test = test[features]\n",
    "\n",
    "        scaler = StandardScaler()\n",
    "        scaler.fit(X_trn)\n",
    "\n",
    "        X_trn = scaler.transform(X_trn)\n",
    "        X_val = scaler.transform(X_val)\n",
    "        X_test = scaler.transform(X_test)\n",
    "\n",
    "        clf.fit(X_trn, y_trn, eval_set = [(X_val, y_val)], **fit_params)\n",
    "\n",
    "        fold_importance = pd.DataFrame({'fold': fold_ + 1, 'feature': features, 'importance': clf.feature_importances_})\n",
    "        feature_importances = pd.concat([feature_importances, fold_importance], axis=0)\n",
    "\n",
    "        ### Instead of directly predicting the classes we will obtain the probability of positive class.\n",
    "        preds_val = clf.predict(X_val)\n",
    "        preds_test = clf.predict(X_test)\n",
    "\n",
    "        fold_score = rmseAV(y_val, preds_val)\n",
    "        print(f'\\nAV metric score for validation set is {fold_score}')\n",
    "\n",
    "        oofs[val_idx] = preds_val\n",
    "        preds += preds_test / N_SPLITS\n",
    "\n",
    "\n",
    "    oofs_score = rmseAV(target, oofs)\n",
    "    print(f'\\n\\nAV metric for oofs is {oofs_score}')\n",
    "\n",
    "    feature_importances = feature_importances.reset_index(drop = True)\n",
    "    fi = feature_importances.groupby('feature')['importance'].mean().sort_values(ascending = False)[:20][::-1]\n",
    "    fi.plot(kind = 'barh', figsize=(12, 6))\n",
    "\n",
    "    return oofs, preds, fi"
   ]
  },
  {
   "cell_type": "code",
   "execution_count": 3,
   "metadata": {},
   "outputs": [],
   "source": [
    "def get_best_thresholds(true, preds):\n",
    "  thresholds = [i/100 for i in range(100)]\n",
    "  best_thresholds = []\n",
    "  for idx in range(25):\n",
    "    f1_scores = [f1_score(true[:, idx], (preds[:, idx] > thresh) * 1) for thresh in thresholds]\n",
    "    best_thresh = thresholds[np.argmax(f1_scores)]\n",
    "    best_thresholds.append(best_thresh)\n",
    "  return best_thresholds"
   ]
  },
  {
   "cell_type": "code",
   "execution_count": 4,
   "metadata": {},
   "outputs": [],
   "source": [
    "def submit_file(preds_test, filename='hacklive_sub.csv'):\n",
    "    ss[target_cols] = preds_test\n",
    "    \n",
    "    ss.to_csv(filename, index=False)"
   ]
  },
  {
   "cell_type": "code",
   "execution_count": 5,
   "metadata": {},
   "outputs": [],
   "source": [
    "target_cols = ['Analysis of PDEs', 'Applications',\n",
    "       'Artificial Intelligence', 'Astrophysics of Galaxies',\n",
    "       'Computation and Language', 'Computer Vision and Pattern Recognition',\n",
    "       'Cosmology and Nongalactic Astrophysics',\n",
    "       'Data Structures and Algorithms', 'Differential Geometry',\n",
    "       'Earth and Planetary Astrophysics', 'Fluid Dynamics',\n",
    "       'Information Theory', 'Instrumentation and Methods for Astrophysics',\n",
    "       'Machine Learning', 'Materials Science', 'Methodology', 'Number Theory',\n",
    "       'Optimization and Control', 'Representation Theory', 'Robotics',\n",
    "       'Social and Information Networks', 'Statistics Theory',\n",
    "       'Strongly Correlated Electrons', 'Superconductivity',\n",
    "       'Systems and Control']"
   ]
  },
  {
   "cell_type": "code",
   "execution_count": 6,
   "metadata": {},
   "outputs": [],
   "source": [
    "cat_cols = [ 'Computer Science', 'Mathematics', 'Physics','Statistics']"
   ]
  },
  {
   "cell_type": "code",
   "execution_count": 7,
   "metadata": {},
   "outputs": [],
   "source": [
    "train = pd.read_csv('../input/hacklive-nlp/Train_nlp.csv')\n",
    "test = pd.read_csv('../input/hacklive-nlp/Test_nlp.csv')\n",
    "ss = pd.read_csv('../input/hacklive-nlp/SampleSubmission_nlp.csv')\n",
    "tags = pd.read_csv('../input/hacklive-nlp/Tags_nlp.csv')"
   ]
  },
  {
   "cell_type": "code",
   "execution_count": 8,
   "metadata": {},
   "outputs": [],
   "source": [
    "oofs_roberta_base = pd.read_csv('../input/out-of-fold-results-hacklive-nlp/oofs_roberta_base.csv')\n",
    "oofs_roberta_lrg = pd.read_csv('../input/out-of-fold-results-hacklive-nlp/oofs_roberta_lrg.csv')\n",
    "oofs_bert_base = pd.read_csv('../input/out-of-fold-results-hacklive-nlp/oofs_bert_base.csv') \n",
    "oofs_bert_lrg = pd.read_csv('../input/out-of-fold-results-hacklive-nlp/oofs_bert_lrg.csv') \n",
    "\n",
    "oofs_distilbert = pd.read_csv('../input/out-of-fold-results-hacklive-nlp/oofs_distilbert.csv')\n",
    "oofs_electra_base = pd.read_csv('../input/out-of-fold-results-hacklive-nlp/oofs_electra_base.csv')\n",
    "oofs_xlmroberta_base = pd.read_csv('../input/out-of-fold-results-hacklive-nlp/oofs_xlmroberta_base.csv')"
   ]
  },
  {
   "cell_type": "code",
   "execution_count": 9,
   "metadata": {},
   "outputs": [],
   "source": [
    "preds_roberta_base = pd.read_csv('../input/preds-hacklive-nlp/preds_roberta_base.csv')\n",
    "preds_roberta_lrg = pd.read_csv('../input/preds-hacklive-nlp/preds_roberta_lrg.csv')\n",
    "preds_bert_base = pd.read_csv('../input/preds-hacklive-nlp/preds_bert_base.csv') \n",
    "preds_bert_lrg = pd.read_csv('../input/preds-hacklive-nlp/preds_bert_lrg.csv')\n",
    "\n",
    "preds_distilbert = pd.read_csv('../input/preds-hacklive-nlp/preds_distilbert.csv')\n",
    "preds_electra_base = pd.read_csv('../input/preds-hacklive-nlp/preds_electra_base.csv')\n",
    "preds_xlmroberta_base = pd.read_csv('../input/preds-hacklive-nlp/preds_xlmroberta_base.csv')"
   ]
  },
  {
   "cell_type": "code",
   "execution_count": 10,
   "metadata": {},
   "outputs": [],
   "source": [
    "x_train = train[cat_cols]\n",
    "x_test = test[cat_cols]\n",
    "y_train = train[target_cols]"
   ]
  },
  {
   "cell_type": "code",
   "execution_count": 11,
   "metadata": {},
   "outputs": [],
   "source": [
    "x_train_meta = pd.concat((x_train,\n",
    "                          oofs_roberta_base,\n",
    "                          oofs_roberta_lrg,\n",
    "                          oofs_bert_base,\n",
    "                          oofs_bert_lrg,\n",
    "                          oofs_distilbert,\n",
    "                          oofs_electra_base,\n",
    "                          oofs_xlmroberta_base\n",
    "                         ),axis=1)"
   ]
  },
  {
   "cell_type": "code",
   "execution_count": 12,
   "metadata": {},
   "outputs": [
    {
     "data": {
      "text/html": [
       "<div>\n",
       "<style scoped>\n",
       "    .dataframe tbody tr th:only-of-type {\n",
       "        vertical-align: middle;\n",
       "    }\n",
       "\n",
       "    .dataframe tbody tr th {\n",
       "        vertical-align: top;\n",
       "    }\n",
       "\n",
       "    .dataframe thead th {\n",
       "        text-align: right;\n",
       "    }\n",
       "</style>\n",
       "<table border=\"1\" class=\"dataframe\">\n",
       "  <thead>\n",
       "    <tr style=\"text-align: right;\">\n",
       "      <th></th>\n",
       "      <th>Computer Science</th>\n",
       "      <th>Mathematics</th>\n",
       "      <th>Physics</th>\n",
       "      <th>Statistics</th>\n",
       "      <th>0</th>\n",
       "      <th>1</th>\n",
       "      <th>2</th>\n",
       "      <th>3</th>\n",
       "      <th>4</th>\n",
       "      <th>5</th>\n",
       "      <th>...</th>\n",
       "      <th>15</th>\n",
       "      <th>16</th>\n",
       "      <th>17</th>\n",
       "      <th>18</th>\n",
       "      <th>19</th>\n",
       "      <th>20</th>\n",
       "      <th>21</th>\n",
       "      <th>22</th>\n",
       "      <th>23</th>\n",
       "      <th>24</th>\n",
       "    </tr>\n",
       "  </thead>\n",
       "  <tbody>\n",
       "    <tr>\n",
       "      <th>0</th>\n",
       "      <td>0</td>\n",
       "      <td>0</td>\n",
       "      <td>1</td>\n",
       "      <td>0</td>\n",
       "      <td>0.0</td>\n",
       "      <td>0.0</td>\n",
       "      <td>0.0</td>\n",
       "      <td>0.0</td>\n",
       "      <td>0.0</td>\n",
       "      <td>0.0</td>\n",
       "      <td>...</td>\n",
       "      <td>0.0</td>\n",
       "      <td>0.0</td>\n",
       "      <td>0.0</td>\n",
       "      <td>0.0</td>\n",
       "      <td>0.0</td>\n",
       "      <td>0.0</td>\n",
       "      <td>0.0</td>\n",
       "      <td>0.0</td>\n",
       "      <td>0.0</td>\n",
       "      <td>0.0</td>\n",
       "    </tr>\n",
       "    <tr>\n",
       "      <th>1</th>\n",
       "      <td>1</td>\n",
       "      <td>0</td>\n",
       "      <td>0</td>\n",
       "      <td>0</td>\n",
       "      <td>0.0</td>\n",
       "      <td>0.0</td>\n",
       "      <td>0.0</td>\n",
       "      <td>0.0</td>\n",
       "      <td>0.0</td>\n",
       "      <td>0.0</td>\n",
       "      <td>...</td>\n",
       "      <td>0.0</td>\n",
       "      <td>0.0</td>\n",
       "      <td>0.0</td>\n",
       "      <td>0.0</td>\n",
       "      <td>0.0</td>\n",
       "      <td>0.0</td>\n",
       "      <td>0.0</td>\n",
       "      <td>0.0</td>\n",
       "      <td>0.0</td>\n",
       "      <td>0.0</td>\n",
       "    </tr>\n",
       "    <tr>\n",
       "      <th>2</th>\n",
       "      <td>0</td>\n",
       "      <td>0</td>\n",
       "      <td>1</td>\n",
       "      <td>0</td>\n",
       "      <td>0.0</td>\n",
       "      <td>0.0</td>\n",
       "      <td>0.0</td>\n",
       "      <td>0.0</td>\n",
       "      <td>0.0</td>\n",
       "      <td>0.0</td>\n",
       "      <td>...</td>\n",
       "      <td>0.0</td>\n",
       "      <td>0.0</td>\n",
       "      <td>0.0</td>\n",
       "      <td>0.0</td>\n",
       "      <td>0.0</td>\n",
       "      <td>0.0</td>\n",
       "      <td>0.0</td>\n",
       "      <td>0.0</td>\n",
       "      <td>0.0</td>\n",
       "      <td>0.0</td>\n",
       "    </tr>\n",
       "    <tr>\n",
       "      <th>3</th>\n",
       "      <td>0</td>\n",
       "      <td>0</td>\n",
       "      <td>1</td>\n",
       "      <td>0</td>\n",
       "      <td>0.0</td>\n",
       "      <td>0.0</td>\n",
       "      <td>0.0</td>\n",
       "      <td>1.0</td>\n",
       "      <td>0.0</td>\n",
       "      <td>0.0</td>\n",
       "      <td>...</td>\n",
       "      <td>0.0</td>\n",
       "      <td>0.0</td>\n",
       "      <td>0.0</td>\n",
       "      <td>0.0</td>\n",
       "      <td>0.0</td>\n",
       "      <td>0.0</td>\n",
       "      <td>0.0</td>\n",
       "      <td>0.0</td>\n",
       "      <td>0.0</td>\n",
       "      <td>0.0</td>\n",
       "    </tr>\n",
       "    <tr>\n",
       "      <th>4</th>\n",
       "      <td>1</td>\n",
       "      <td>0</td>\n",
       "      <td>0</td>\n",
       "      <td>0</td>\n",
       "      <td>0.0</td>\n",
       "      <td>0.0</td>\n",
       "      <td>0.0</td>\n",
       "      <td>0.0</td>\n",
       "      <td>0.0</td>\n",
       "      <td>0.0</td>\n",
       "      <td>...</td>\n",
       "      <td>0.0</td>\n",
       "      <td>0.0</td>\n",
       "      <td>0.0</td>\n",
       "      <td>0.0</td>\n",
       "      <td>0.0</td>\n",
       "      <td>0.0</td>\n",
       "      <td>0.0</td>\n",
       "      <td>0.0</td>\n",
       "      <td>0.0</td>\n",
       "      <td>0.0</td>\n",
       "    </tr>\n",
       "  </tbody>\n",
       "</table>\n",
       "<p>5 rows × 179 columns</p>\n",
       "</div>"
      ],
      "text/plain": [
       "   Computer Science  Mathematics  Physics  Statistics    0    1    2    3  \\\n",
       "0                 0            0        1           0  0.0  0.0  0.0  0.0   \n",
       "1                 1            0        0           0  0.0  0.0  0.0  0.0   \n",
       "2                 0            0        1           0  0.0  0.0  0.0  0.0   \n",
       "3                 0            0        1           0  0.0  0.0  0.0  1.0   \n",
       "4                 1            0        0           0  0.0  0.0  0.0  0.0   \n",
       "\n",
       "     4    5  ...   15   16   17   18   19   20   21   22   23   24  \n",
       "0  0.0  0.0  ...  0.0  0.0  0.0  0.0  0.0  0.0  0.0  0.0  0.0  0.0  \n",
       "1  0.0  0.0  ...  0.0  0.0  0.0  0.0  0.0  0.0  0.0  0.0  0.0  0.0  \n",
       "2  0.0  0.0  ...  0.0  0.0  0.0  0.0  0.0  0.0  0.0  0.0  0.0  0.0  \n",
       "3  0.0  0.0  ...  0.0  0.0  0.0  0.0  0.0  0.0  0.0  0.0  0.0  0.0  \n",
       "4  0.0  0.0  ...  0.0  0.0  0.0  0.0  0.0  0.0  0.0  0.0  0.0  0.0  \n",
       "\n",
       "[5 rows x 179 columns]"
      ]
     },
     "execution_count": 12,
     "metadata": {},
     "output_type": "execute_result"
    }
   ],
   "source": [
    "x_train_meta.head()"
   ]
  },
  {
   "cell_type": "code",
   "execution_count": 111,
   "metadata": {},
   "outputs": [],
   "source": [
    "num = x_train_meta.shape[1]"
   ]
  },
  {
   "cell_type": "code",
   "execution_count": 14,
   "metadata": {},
   "outputs": [],
   "source": [
    "x_test_meta = pd.concat((x_test,\n",
    "                         preds_roberta_base,\n",
    "                         preds_roberta_lrg,\n",
    "                         preds_bert_base,\n",
    "                         preds_bert_lrg,\n",
    "                         preds_distilbert,\n",
    "                         preds_electra_base,\n",
    "                         preds_xlmroberta_base\n",
    "                        ),axis=1)"
   ]
  },
  {
   "cell_type": "code",
   "execution_count": 104,
   "metadata": {},
   "outputs": [
    {
     "data": {
      "text/html": [
       "<div>\n",
       "<style scoped>\n",
       "    .dataframe tbody tr th:only-of-type {\n",
       "        vertical-align: middle;\n",
       "    }\n",
       "\n",
       "    .dataframe tbody tr th {\n",
       "        vertical-align: top;\n",
       "    }\n",
       "\n",
       "    .dataframe thead th {\n",
       "        text-align: right;\n",
       "    }\n",
       "</style>\n",
       "<table border=\"1\" class=\"dataframe\">\n",
       "  <thead>\n",
       "    <tr style=\"text-align: right;\">\n",
       "      <th></th>\n",
       "      <th>0</th>\n",
       "      <th>1</th>\n",
       "      <th>2</th>\n",
       "      <th>3</th>\n",
       "      <th>4</th>\n",
       "      <th>5</th>\n",
       "      <th>6</th>\n",
       "      <th>7</th>\n",
       "      <th>8</th>\n",
       "      <th>9</th>\n",
       "      <th>...</th>\n",
       "      <th>69</th>\n",
       "      <th>70</th>\n",
       "      <th>71</th>\n",
       "      <th>72</th>\n",
       "      <th>73</th>\n",
       "      <th>74</th>\n",
       "      <th>75</th>\n",
       "      <th>76</th>\n",
       "      <th>77</th>\n",
       "      <th>78</th>\n",
       "    </tr>\n",
       "  </thead>\n",
       "  <tbody>\n",
       "    <tr>\n",
       "      <th>0</th>\n",
       "      <td>0</td>\n",
       "      <td>0</td>\n",
       "      <td>0</td>\n",
       "      <td>1</td>\n",
       "      <td>0</td>\n",
       "      <td>0</td>\n",
       "      <td>0</td>\n",
       "      <td>0</td>\n",
       "      <td>0</td>\n",
       "      <td>0</td>\n",
       "      <td>...</td>\n",
       "      <td>0</td>\n",
       "      <td>0</td>\n",
       "      <td>0</td>\n",
       "      <td>0</td>\n",
       "      <td>0</td>\n",
       "      <td>0</td>\n",
       "      <td>0</td>\n",
       "      <td>0</td>\n",
       "      <td>0</td>\n",
       "      <td>0</td>\n",
       "    </tr>\n",
       "    <tr>\n",
       "      <th>1</th>\n",
       "      <td>1</td>\n",
       "      <td>0</td>\n",
       "      <td>0</td>\n",
       "      <td>1</td>\n",
       "      <td>0</td>\n",
       "      <td>1</td>\n",
       "      <td>0</td>\n",
       "      <td>0</td>\n",
       "      <td>0</td>\n",
       "      <td>0</td>\n",
       "      <td>...</td>\n",
       "      <td>0</td>\n",
       "      <td>0</td>\n",
       "      <td>0</td>\n",
       "      <td>0</td>\n",
       "      <td>0</td>\n",
       "      <td>1</td>\n",
       "      <td>0</td>\n",
       "      <td>0</td>\n",
       "      <td>0</td>\n",
       "      <td>0</td>\n",
       "    </tr>\n",
       "    <tr>\n",
       "      <th>2</th>\n",
       "      <td>0</td>\n",
       "      <td>0</td>\n",
       "      <td>1</td>\n",
       "      <td>0</td>\n",
       "      <td>0</td>\n",
       "      <td>0</td>\n",
       "      <td>0</td>\n",
       "      <td>0</td>\n",
       "      <td>0</td>\n",
       "      <td>0</td>\n",
       "      <td>...</td>\n",
       "      <td>0</td>\n",
       "      <td>0</td>\n",
       "      <td>0</td>\n",
       "      <td>0</td>\n",
       "      <td>0</td>\n",
       "      <td>0</td>\n",
       "      <td>0</td>\n",
       "      <td>0</td>\n",
       "      <td>0</td>\n",
       "      <td>0</td>\n",
       "    </tr>\n",
       "    <tr>\n",
       "      <th>3</th>\n",
       "      <td>0</td>\n",
       "      <td>1</td>\n",
       "      <td>0</td>\n",
       "      <td>0</td>\n",
       "      <td>1</td>\n",
       "      <td>0</td>\n",
       "      <td>0</td>\n",
       "      <td>0</td>\n",
       "      <td>0</td>\n",
       "      <td>0</td>\n",
       "      <td>...</td>\n",
       "      <td>0</td>\n",
       "      <td>0</td>\n",
       "      <td>0</td>\n",
       "      <td>0</td>\n",
       "      <td>0</td>\n",
       "      <td>0</td>\n",
       "      <td>0</td>\n",
       "      <td>0</td>\n",
       "      <td>0</td>\n",
       "      <td>0</td>\n",
       "    </tr>\n",
       "    <tr>\n",
       "      <th>4</th>\n",
       "      <td>0</td>\n",
       "      <td>0</td>\n",
       "      <td>1</td>\n",
       "      <td>0</td>\n",
       "      <td>0</td>\n",
       "      <td>0</td>\n",
       "      <td>0</td>\n",
       "      <td>1</td>\n",
       "      <td>0</td>\n",
       "      <td>0</td>\n",
       "      <td>...</td>\n",
       "      <td>0</td>\n",
       "      <td>0</td>\n",
       "      <td>0</td>\n",
       "      <td>0</td>\n",
       "      <td>0</td>\n",
       "      <td>0</td>\n",
       "      <td>0</td>\n",
       "      <td>0</td>\n",
       "      <td>0</td>\n",
       "      <td>0</td>\n",
       "    </tr>\n",
       "  </tbody>\n",
       "</table>\n",
       "<p>5 rows × 79 columns</p>\n",
       "</div>"
      ],
      "text/plain": [
       "   0   1   2   3   4   5   6   7   8   9   ...  69  70  71  72  73  74  75  \\\n",
       "0   0   0   0   1   0   0   0   0   0   0  ...   0   0   0   0   0   0   0   \n",
       "1   1   0   0   1   0   1   0   0   0   0  ...   0   0   0   0   0   1   0   \n",
       "2   0   0   1   0   0   0   0   0   0   0  ...   0   0   0   0   0   0   0   \n",
       "3   0   1   0   0   1   0   0   0   0   0  ...   0   0   0   0   0   0   0   \n",
       "4   0   0   1   0   0   0   0   1   0   0  ...   0   0   0   0   0   0   0   \n",
       "\n",
       "   76  77  78  \n",
       "0   0   0   0  \n",
       "1   0   0   0  \n",
       "2   0   0   0  \n",
       "3   0   0   0  \n",
       "4   0   0   0  \n",
       "\n",
       "[5 rows x 79 columns]"
      ]
     },
     "execution_count": 104,
     "metadata": {},
     "output_type": "execute_result"
    }
   ],
   "source": [
    "x_test_meta.head()"
   ]
  },
  {
   "cell_type": "code",
   "execution_count": 118,
   "metadata": {},
   "outputs": [
    {
     "name": "stdout",
     "output_type": "stream",
     "text": [
      "Model: \"sequential_5\"\n",
      "_________________________________________________________________\n",
      "Layer (type)                 Output Shape              Param #   \n",
      "=================================================================\n",
      "Fully_Connected (Dense)      (None, 400)               32000     \n",
      "_________________________________________________________________\n",
      "Hidden1 (Dense)              (None, 400)               160400    \n",
      "_________________________________________________________________\n",
      "Output (Dense)               (None, 25)                10025     \n",
      "=================================================================\n",
      "Total params: 202,425\n",
      "Trainable params: 202,425\n",
      "Non-trainable params: 0\n",
      "_________________________________________________________________\n"
     ]
    }
   ],
   "source": [
    "model = Sequential()\n",
    "\n",
    "model.add(Dense(400, input_dim=num, activation='relu', name = 'Fully_Connected'))\n",
    "model.add(Dense(400, activation='relu', name = 'Hidden1'))\n",
    "#model.add(Dense(400, input_dim=num, activation='relu', name = 'Hidden2'))\n",
    "model.add(Dense(25, activation='sigmoid', name = 'Output'))\n",
    "model.compile(optimizer=tf.keras.optimizers.Adam(lr = 1e-3),\n",
    "              loss='binary_crossentropy',\n",
    "              metrics=['accuracy'],\n",
    "              )\n",
    "\n",
    "model.summary()"
   ]
  },
  {
   "cell_type": "code",
   "execution_count": 106,
   "metadata": {},
   "outputs": [],
   "source": [
    "X_train, X_val, Y_train, Y_val = train_test_split(x_train_meta, y_train, test_size=0.2, random_state=42)"
   ]
  },
  {
   "cell_type": "code",
   "execution_count": 120,
   "metadata": {},
   "outputs": [
    {
     "name": "stdout",
     "output_type": "stream",
     "text": [
      "Epoch 1/30\n",
      "44/44 [==============================] - 0s 9ms/step - loss: 0.0612 - accuracy: 0.6694 - val_loss: 0.0670 - val_accuracy: 0.6694\n",
      "Epoch 2/30\n",
      "44/44 [==============================] - 0s 9ms/step - loss: 0.0613 - accuracy: 0.6668 - val_loss: 0.0665 - val_accuracy: 0.6737\n",
      "Epoch 3/30\n",
      "44/44 [==============================] - 0s 8ms/step - loss: 0.0611 - accuracy: 0.6635 - val_loss: 0.0661 - val_accuracy: 0.6737\n",
      "Epoch 4/30\n",
      "44/44 [==============================] - 0s 8ms/step - loss: 0.0611 - accuracy: 0.6683 - val_loss: 0.0661 - val_accuracy: 0.6662\n",
      "Epoch 5/30\n",
      "44/44 [==============================] - 0s 8ms/step - loss: 0.0609 - accuracy: 0.6658 - val_loss: 0.0666 - val_accuracy: 0.6698\n",
      "Epoch 6/30\n",
      "44/44 [==============================] - 0s 8ms/step - loss: 0.0609 - accuracy: 0.6644 - val_loss: 0.0666 - val_accuracy: 0.6726\n",
      "Epoch 7/30\n",
      "44/44 [==============================] - 0s 7ms/step - loss: 0.0607 - accuracy: 0.6705 - val_loss: 0.0668 - val_accuracy: 0.6637\n",
      "Epoch 8/30\n",
      "44/44 [==============================] - 0s 8ms/step - loss: 0.0606 - accuracy: 0.6671 - val_loss: 0.0664 - val_accuracy: 0.6698\n",
      "Epoch 9/30\n",
      "44/44 [==============================] - 0s 8ms/step - loss: 0.0604 - accuracy: 0.6696 - val_loss: 0.0663 - val_accuracy: 0.6712\n",
      "Epoch 10/30\n",
      "44/44 [==============================] - 0s 8ms/step - loss: 0.0603 - accuracy: 0.6671 - val_loss: 0.0667 - val_accuracy: 0.6730\n",
      "Epoch 11/30\n",
      "44/44 [==============================] - 0s 8ms/step - loss: 0.0604 - accuracy: 0.6679 - val_loss: 0.0665 - val_accuracy: 0.6648\n",
      "Epoch 12/30\n",
      "44/44 [==============================] - 0s 7ms/step - loss: 0.0599 - accuracy: 0.6696 - val_loss: 0.0670 - val_accuracy: 0.6676\n",
      "Epoch 13/30\n",
      "44/44 [==============================] - 0s 8ms/step - loss: 0.0600 - accuracy: 0.6687 - val_loss: 0.0671 - val_accuracy: 0.6694\n",
      "Epoch 14/30\n",
      "44/44 [==============================] - 0s 7ms/step - loss: 0.0599 - accuracy: 0.6690 - val_loss: 0.0671 - val_accuracy: 0.6658\n"
     ]
    },
    {
     "data": {
      "text/plain": [
       "<tensorflow.python.keras.callbacks.History at 0x7fe552a2ac90>"
      ]
     },
     "execution_count": 120,
     "metadata": {},
     "output_type": "execute_result"
    }
   ],
   "source": [
    "model.fit(X_train, Y_train, validation_data=(X_val, Y_val), verbose=True, epochs=30, batch_size=256,callbacks = [EarlyStopping(monitor='val_loss', patience=10),\n",
    "             ModelCheckpoint(filepath='best_model.h5', monitor='val_loss', save_best_only=True)])\n",
    "         # callbacks = [tf.keras.callbacks.ReduceLROnPlateau()]\n",
    "         "
   ]
  },
  {
   "cell_type": "code",
   "execution_count": 121,
   "metadata": {},
   "outputs": [],
   "source": [
    "from keras.models import load_model\n",
    "model = load_model('best_model.h5')"
   ]
  },
  {
   "cell_type": "code",
   "execution_count": 122,
   "metadata": {},
   "outputs": [
    {
     "data": {
      "text/plain": [
       "0.7688051640100118"
      ]
     },
     "execution_count": 122,
     "metadata": {},
     "output_type": "execute_result"
    }
   ],
   "source": [
    "val_preds = model.predict(X_val)\n",
    "best_thresholds = get_best_thresholds(Y_val.values, val_preds)\n",
    "for i, thresh in enumerate(best_thresholds):\n",
    "  val_preds[:, i] = (val_preds[:, i] > thresh) * 1\n",
    "f1_score(Y_val, val_preds, average='micro')"
   ]
  },
  {
   "cell_type": "code",
   "execution_count": 123,
   "metadata": {},
   "outputs": [
    {
     "data": {
      "text/plain": [
       "<tensorflow.python.keras.callbacks.History at 0x7fe552a96310>"
      ]
     },
     "execution_count": 123,
     "metadata": {},
     "output_type": "execute_result"
    }
   ],
   "source": [
    "model.fit(x_train_meta, y_train, verbose=False, epochs=25, batch_size=256,\n",
    "          callbacks = [tf.keras.callbacks.ReduceLROnPlateau()])"
   ]
  },
  {
   "cell_type": "code",
   "execution_count": 124,
   "metadata": {},
   "outputs": [],
   "source": [
    "preds_ensemble = model.predict(x_test_meta)"
   ]
  },
  {
   "cell_type": "code",
   "execution_count": 125,
   "metadata": {},
   "outputs": [],
   "source": [
    "for i, thresh in enumerate(best_thresholds):\n",
    "  preds_ensemble[:, i] = (preds_ensemble[:, i] > thresh) * 1"
   ]
  },
  {
   "cell_type": "code",
   "execution_count": 25,
   "metadata": {},
   "outputs": [],
   "source": [
    "submit_file(preds_ensemble, filename='hacklive_2stage_ensemble.csv')"
   ]
  },
  {
   "cell_type": "code",
   "execution_count": 62,
   "metadata": {},
   "outputs": [],
   "source": [
    "x_train_meta.columns = range(179)"
   ]
  },
  {
   "cell_type": "code",
   "execution_count": 69,
   "metadata": {},
   "outputs": [],
   "source": [
    "x_test_meta.columns = range(179)"
   ]
  },
  {
   "cell_type": "code",
   "execution_count": 64,
   "metadata": {},
   "outputs": [],
   "source": [
    "features = x_train_meta.columns"
   ]
  },
  {
   "cell_type": "code",
   "execution_count": 47,
   "metadata": {},
   "outputs": [],
   "source": [
    "model_lgb = LGBMRegressor(objective='regression',num_leaves=30,\n",
    "                              learning_rate=0.05, n_estimators=3000,\n",
    "                              max_bin = 40, bagging_fraction = 0.8,\n",
    "                              bagging_freq = 10, feature_fraction = 0.2319,\n",
    "                              feature_fraction_seed=9, bagging_seed=9,\n",
    "                              min_data_in_leaf =6, min_sum_hessian_in_leaf = 13,colsample_bytree = 1.0)\n",
    "                              #n_iter_no_change=5, tol=0.01)"
   ]
  },
  {
   "cell_type": "code",
   "execution_count": 51,
   "metadata": {},
   "outputs": [],
   "source": [
    "clf_lgb = OneVsRestClassifier(model_lgb, n_jobs=-1)"
   ]
  },
  {
   "cell_type": "code",
   "execution_count": 48,
   "metadata": {},
   "outputs": [],
   "source": [
    "model_xgb = xgb.XGBRegressor(colsample_bytree=0.6, gamma=0.1, \n",
    "                             learning_rate=0.05, max_depth=6, \n",
    "                             min_child_weight=1.5, n_estimators=2000,\n",
    "                             #reg_alpha=0.4640, reg_lambda=0.8571,\n",
    "                             subsample=0.5213, \n",
    "                             random_state =7, nthread = -1, n_iter_no_change=5, tol=0.01)"
   ]
  },
  {
   "cell_type": "code",
   "execution_count": 55,
   "metadata": {},
   "outputs": [],
   "source": [
    "clf_xgb = OneVsRestClassifier(model_lgb, n_jobs=-1)"
   ]
  },
  {
   "cell_type": "code",
   "execution_count": 49,
   "metadata": {},
   "outputs": [],
   "source": [
    "model_catb = CatBoostRegressor(n_estimators = 3000,\n",
    "                       learning_rate = 0.1,\n",
    "                       rsm = 0.2, ## Analogous to colsample_bytree\n",
    "                       #random_state=2054, od_type='Iter', od_wait=10\n",
    "                       )"
   ]
  },
  {
   "cell_type": "code",
   "execution_count": 56,
   "metadata": {},
   "outputs": [],
   "source": [
    "clf_catb = OneVsRestClassifier(model_lgb, n_jobs=-1)"
   ]
  },
  {
   "cell_type": "code",
   "execution_count": 57,
   "metadata": {},
   "outputs": [
    {
     "name": "stdout",
     "output_type": "stream",
     "text": [
      "\n",
      "------------- Fold 1 -------------\n"
     ]
    },
    {
     "data": {
      "text/plain": [
       "OneVsRestClassifier(estimator=LGBMRegressor(bagging_fraction=0.8,\n",
       "                                            bagging_freq=10, bagging_seed=9,\n",
       "                                            feature_fraction=0.2319,\n",
       "                                            feature_fraction_seed=9,\n",
       "                                            learning_rate=0.05, max_bin=40,\n",
       "                                            min_data_in_leaf=6,\n",
       "                                            min_sum_hessian_in_leaf=13,\n",
       "                                            n_estimators=3000, num_leaves=30,\n",
       "                                            objective='regression'),\n",
       "                    n_jobs=-1)"
      ]
     },
     "execution_count": 57,
     "metadata": {},
     "output_type": "execute_result"
    },
    {
     "data": {
      "text/plain": [
       "0.7598929728207295"
      ]
     },
     "execution_count": 57,
     "metadata": {},
     "output_type": "execute_result"
    },
    {
     "name": "stdout",
     "output_type": "stream",
     "text": [
      "\n",
      "------------- Fold 2 -------------\n"
     ]
    },
    {
     "data": {
      "text/plain": [
       "OneVsRestClassifier(estimator=LGBMRegressor(bagging_fraction=0.8,\n",
       "                                            bagging_freq=10, bagging_seed=9,\n",
       "                                            feature_fraction=0.2319,\n",
       "                                            feature_fraction_seed=9,\n",
       "                                            learning_rate=0.05, max_bin=40,\n",
       "                                            min_data_in_leaf=6,\n",
       "                                            min_sum_hessian_in_leaf=13,\n",
       "                                            n_estimators=3000, num_leaves=30,\n",
       "                                            objective='regression'),\n",
       "                    n_jobs=-1)"
      ]
     },
     "execution_count": 57,
     "metadata": {},
     "output_type": "execute_result"
    },
    {
     "data": {
      "text/plain": [
       "0.7566652560304696"
      ]
     },
     "execution_count": 57,
     "metadata": {},
     "output_type": "execute_result"
    },
    {
     "name": "stdout",
     "output_type": "stream",
     "text": [
      "\n",
      "------------- Fold 3 -------------\n"
     ]
    },
    {
     "data": {
      "text/plain": [
       "OneVsRestClassifier(estimator=LGBMRegressor(bagging_fraction=0.8,\n",
       "                                            bagging_freq=10, bagging_seed=9,\n",
       "                                            feature_fraction=0.2319,\n",
       "                                            feature_fraction_seed=9,\n",
       "                                            learning_rate=0.05, max_bin=40,\n",
       "                                            min_data_in_leaf=6,\n",
       "                                            min_sum_hessian_in_leaf=13,\n",
       "                                            n_estimators=3000, num_leaves=30,\n",
       "                                            objective='regression'),\n",
       "                    n_jobs=-1)"
      ]
     },
     "execution_count": 57,
     "metadata": {},
     "output_type": "execute_result"
    },
    {
     "data": {
      "text/plain": [
       "0.769920179246604"
      ]
     },
     "execution_count": 57,
     "metadata": {},
     "output_type": "execute_result"
    },
    {
     "name": "stdout",
     "output_type": "stream",
     "text": [
      "\n",
      "------------- Fold 4 -------------\n"
     ]
    },
    {
     "data": {
      "text/plain": [
       "OneVsRestClassifier(estimator=LGBMRegressor(bagging_fraction=0.8,\n",
       "                                            bagging_freq=10, bagging_seed=9,\n",
       "                                            feature_fraction=0.2319,\n",
       "                                            feature_fraction_seed=9,\n",
       "                                            learning_rate=0.05, max_bin=40,\n",
       "                                            min_data_in_leaf=6,\n",
       "                                            min_sum_hessian_in_leaf=13,\n",
       "                                            n_estimators=3000, num_leaves=30,\n",
       "                                            objective='regression'),\n",
       "                    n_jobs=-1)"
      ]
     },
     "execution_count": 57,
     "metadata": {},
     "output_type": "execute_result"
    },
    {
     "data": {
      "text/plain": [
       "0.7638771484925331"
      ]
     },
     "execution_count": 57,
     "metadata": {},
     "output_type": "execute_result"
    },
    {
     "name": "stdout",
     "output_type": "stream",
     "text": [
      "\n",
      "------------- Fold 5 -------------\n"
     ]
    },
    {
     "data": {
      "text/plain": [
       "OneVsRestClassifier(estimator=LGBMRegressor(bagging_fraction=0.8,\n",
       "                                            bagging_freq=10, bagging_seed=9,\n",
       "                                            feature_fraction=0.2319,\n",
       "                                            feature_fraction_seed=9,\n",
       "                                            learning_rate=0.05, max_bin=40,\n",
       "                                            min_data_in_leaf=6,\n",
       "                                            min_sum_hessian_in_leaf=13,\n",
       "                                            n_estimators=3000, num_leaves=30,\n",
       "                                            objective='regression'),\n",
       "                    n_jobs=-1)"
      ]
     },
     "execution_count": 57,
     "metadata": {},
     "output_type": "execute_result"
    },
    {
     "data": {
      "text/plain": [
       "0.7544724609099872"
      ]
     },
     "execution_count": 57,
     "metadata": {},
     "output_type": "execute_result"
    }
   ],
   "source": [
    "n=5\n",
    "kf = KFold(n_splits=n, shuffle=True)\n",
    "\n",
    "#results = []\n",
    "oofs_lgb = np.zeros((len(x_train_meta),25))\n",
    "\n",
    "for fold_, (train_index, val_index) in enumerate(kf.split(x_train_meta,y_train)):\n",
    "    print(f'\\n------------- Fold {fold_ + 1} -------------')\n",
    "    \n",
    "  # splitting Dataframe (dataset not included)\n",
    "    train_df = x_train_meta.iloc[train_index]\n",
    "    val_df = x_train_meta.iloc[val_index]\n",
    "    y_train_df = y_train.iloc[train_index]\n",
    "    y_val_df = y_train.iloc[val_index]\n",
    "    # Defining Model\n",
    "    #model = MultiLabelClassificationModel(\"xlm-roberta\", model_name='google/electra-large-discriminator', num_labels=25,use_cuda=True,\n",
    "    model_lgb = LGBMRegressor(objective='regression',num_leaves=30,\n",
    "                              learning_rate=0.05, n_estimators=3000,\n",
    "                              max_bin = 40, bagging_fraction = 0.8,\n",
    "                              bagging_freq = 10, feature_fraction = 0.2319,\n",
    "                              feature_fraction_seed=9, bagging_seed=9,\n",
    "                              min_data_in_leaf =6, min_sum_hessian_in_leaf = 13,colsample_bytree = 1.0)\n",
    "                              #n_iter_no_change=5, tol=0.01)\n",
    "        \n",
    "    model = OneVsRestClassifier(model_lgb, n_jobs=-1)\n",
    "  # train the model\n",
    "    model.fit(train_df,y_train_df)\n",
    "  # validate the model \n",
    "    #result, model_outputs, wrong_predictions = model.eval_model(val_df, acc=accuracy_score)\n",
    "    #print(result['acc'])\n",
    "  # append model score\n",
    "    #results.append(result['acc'])\n",
    "    \n",
    "    preds_val = model.predict(val_df)\n",
    "    f1_score(y_val_df, preds_val, average='micro')\n",
    "    \n",
    "    oofs_lgb[val_index] = preds_val"
   ]
  },
  {
   "cell_type": "code",
   "execution_count": 66,
   "metadata": {},
   "outputs": [
    {
     "ename": "AttributeError",
     "evalue": "'OneVsRestClassifier' object has no attribute 'estimators_'",
     "output_type": "error",
     "traceback": [
      "\u001b[0;31m---------------------------------------------------------------------------\u001b[0m",
      "\u001b[0;31mAttributeError\u001b[0m                            Traceback (most recent call last)",
      "\u001b[0;32m<ipython-input-66-e24977399db4>\u001b[0m in \u001b[0;36m<module>\u001b[0;34m\u001b[0m\n\u001b[0;32m----> 1\u001b[0;31m \u001b[0mlgb_preds\u001b[0m \u001b[0;34m=\u001b[0m \u001b[0mmodel\u001b[0m\u001b[0;34m.\u001b[0m\u001b[0mpredict\u001b[0m\u001b[0;34m(\u001b[0m\u001b[0mx_test_meta\u001b[0m\u001b[0;34m)\u001b[0m\u001b[0;34m\u001b[0m\u001b[0;34m\u001b[0m\u001b[0m\n\u001b[0m",
      "\u001b[0;32m/opt/conda/lib/python3.7/site-packages/sklearn/multiclass.py\u001b[0m in \u001b[0;36mpredict\u001b[0;34m(self, X)\u001b[0m\n\u001b[1;32m    329\u001b[0m             \u001b[0;32mreturn\u001b[0m \u001b[0mself\u001b[0m\u001b[0;34m.\u001b[0m\u001b[0mclasses_\u001b[0m\u001b[0;34m[\u001b[0m\u001b[0margmaxima\u001b[0m\u001b[0;34m]\u001b[0m\u001b[0;34m\u001b[0m\u001b[0;34m\u001b[0m\u001b[0m\n\u001b[1;32m    330\u001b[0m         \u001b[0;32melse\u001b[0m\u001b[0;34m:\u001b[0m\u001b[0;34m\u001b[0m\u001b[0;34m\u001b[0m\u001b[0m\n\u001b[0;32m--> 331\u001b[0;31m             if (hasattr(self.estimators_[0], \"decision_function\") and\n\u001b[0m\u001b[1;32m    332\u001b[0m                     is_classifier(self.estimators_[0])):\n\u001b[1;32m    333\u001b[0m                 \u001b[0mthresh\u001b[0m \u001b[0;34m=\u001b[0m \u001b[0;36m0\u001b[0m\u001b[0;34m\u001b[0m\u001b[0;34m\u001b[0m\u001b[0m\n",
      "\u001b[0;31mAttributeError\u001b[0m: 'OneVsRestClassifier' object has no attribute 'estimators_'"
     ]
    }
   ],
   "source": [
    "lgb_preds = model.predict(x_test_meta)"
   ]
  },
  {
   "cell_type": "code",
   "execution_count": 73,
   "metadata": {},
   "outputs": [],
   "source": [
    "lgb_preds = pd.DataFrame(lgb_preds)"
   ]
  },
  {
   "cell_type": "code",
   "execution_count": 86,
   "metadata": {},
   "outputs": [],
   "source": [
    "lgb_preds.to_csv('lgb_preds.csv', index=False)"
   ]
  },
  {
   "cell_type": "code",
   "execution_count": 80,
   "metadata": {},
   "outputs": [],
   "source": [
    "oofs_lgb = pd.DataFrame(oofs_lgb)"
   ]
  },
  {
   "cell_type": "code",
   "execution_count": 87,
   "metadata": {},
   "outputs": [],
   "source": [
    "oofs_lgb.to_csv('oofs_lgb.csv', index=False)"
   ]
  },
  {
   "cell_type": "code",
   "execution_count": 67,
   "metadata": {},
   "outputs": [
    {
     "name": "stdout",
     "output_type": "stream",
     "text": [
      "\n",
      "------------- Fold 1 -------------\n"
     ]
    },
    {
     "data": {
      "text/plain": [
       "OneVsRestClassifier(estimator=XGBRegressor(base_score=None, booster=None,\n",
       "                                           colsample_bylevel=None,\n",
       "                                           colsample_bynode=None,\n",
       "                                           colsample_bytree=0.6, gamma=0.1,\n",
       "                                           gpu_id=None, importance_type='gain',\n",
       "                                           interaction_constraints=None,\n",
       "                                           learning_rate=0.05,\n",
       "                                           max_delta_step=None, max_depth=6,\n",
       "                                           min_child_weight=1.5, missing=nan,\n",
       "                                           monotone_constraints=None,\n",
       "                                           n_estimators=2000,\n",
       "                                           n_iter_no_change=5, n_jobs=None,\n",
       "                                           nthread=-1, num_parallel_tree=None,\n",
       "                                           random_state=7, reg_alpha=None,\n",
       "                                           reg_lambda=None,\n",
       "                                           scale_pos_weight=None,\n",
       "                                           subsample=0.5213, tol=0.01,\n",
       "                                           tree_method=None,\n",
       "                                           validate_parameters=None,\n",
       "                                           verbosity=None),\n",
       "                    n_jobs=-1)"
      ]
     },
     "execution_count": 67,
     "metadata": {},
     "output_type": "execute_result"
    },
    {
     "data": {
      "text/plain": [
       "0.7567341242149337"
      ]
     },
     "execution_count": 67,
     "metadata": {},
     "output_type": "execute_result"
    },
    {
     "name": "stdout",
     "output_type": "stream",
     "text": [
      "\n",
      "------------- Fold 2 -------------\n"
     ]
    },
    {
     "data": {
      "text/plain": [
       "OneVsRestClassifier(estimator=XGBRegressor(base_score=None, booster=None,\n",
       "                                           colsample_bylevel=None,\n",
       "                                           colsample_bynode=None,\n",
       "                                           colsample_bytree=0.6, gamma=0.1,\n",
       "                                           gpu_id=None, importance_type='gain',\n",
       "                                           interaction_constraints=None,\n",
       "                                           learning_rate=0.05,\n",
       "                                           max_delta_step=None, max_depth=6,\n",
       "                                           min_child_weight=1.5, missing=nan,\n",
       "                                           monotone_constraints=None,\n",
       "                                           n_estimators=2000,\n",
       "                                           n_iter_no_change=5, n_jobs=None,\n",
       "                                           nthread=-1, num_parallel_tree=None,\n",
       "                                           random_state=7, reg_alpha=None,\n",
       "                                           reg_lambda=None,\n",
       "                                           scale_pos_weight=None,\n",
       "                                           subsample=0.5213, tol=0.01,\n",
       "                                           tree_method=None,\n",
       "                                           validate_parameters=None,\n",
       "                                           verbosity=None),\n",
       "                    n_jobs=-1)"
      ]
     },
     "execution_count": 67,
     "metadata": {},
     "output_type": "execute_result"
    },
    {
     "data": {
      "text/plain": [
       "0.7503150819212997"
      ]
     },
     "execution_count": 67,
     "metadata": {},
     "output_type": "execute_result"
    },
    {
     "name": "stdout",
     "output_type": "stream",
     "text": [
      "\n",
      "------------- Fold 3 -------------\n"
     ]
    },
    {
     "data": {
      "text/plain": [
       "OneVsRestClassifier(estimator=XGBRegressor(base_score=None, booster=None,\n",
       "                                           colsample_bylevel=None,\n",
       "                                           colsample_bynode=None,\n",
       "                                           colsample_bytree=0.6, gamma=0.1,\n",
       "                                           gpu_id=None, importance_type='gain',\n",
       "                                           interaction_constraints=None,\n",
       "                                           learning_rate=0.05,\n",
       "                                           max_delta_step=None, max_depth=6,\n",
       "                                           min_child_weight=1.5, missing=nan,\n",
       "                                           monotone_constraints=None,\n",
       "                                           n_estimators=2000,\n",
       "                                           n_iter_no_change=5, n_jobs=None,\n",
       "                                           nthread=-1, num_parallel_tree=None,\n",
       "                                           random_state=7, reg_alpha=None,\n",
       "                                           reg_lambda=None,\n",
       "                                           scale_pos_weight=None,\n",
       "                                           subsample=0.5213, tol=0.01,\n",
       "                                           tree_method=None,\n",
       "                                           validate_parameters=None,\n",
       "                                           verbosity=None),\n",
       "                    n_jobs=-1)"
      ]
     },
     "execution_count": 67,
     "metadata": {},
     "output_type": "execute_result"
    },
    {
     "data": {
      "text/plain": [
       "0.744055944055944"
      ]
     },
     "execution_count": 67,
     "metadata": {},
     "output_type": "execute_result"
    },
    {
     "name": "stdout",
     "output_type": "stream",
     "text": [
      "\n",
      "------------- Fold 4 -------------\n"
     ]
    },
    {
     "data": {
      "text/plain": [
       "OneVsRestClassifier(estimator=XGBRegressor(base_score=None, booster=None,\n",
       "                                           colsample_bylevel=None,\n",
       "                                           colsample_bynode=None,\n",
       "                                           colsample_bytree=0.6, gamma=0.1,\n",
       "                                           gpu_id=None, importance_type='gain',\n",
       "                                           interaction_constraints=None,\n",
       "                                           learning_rate=0.05,\n",
       "                                           max_delta_step=None, max_depth=6,\n",
       "                                           min_child_weight=1.5, missing=nan,\n",
       "                                           monotone_constraints=None,\n",
       "                                           n_estimators=2000,\n",
       "                                           n_iter_no_change=5, n_jobs=None,\n",
       "                                           nthread=-1, num_parallel_tree=None,\n",
       "                                           random_state=7, reg_alpha=None,\n",
       "                                           reg_lambda=None,\n",
       "                                           scale_pos_weight=None,\n",
       "                                           subsample=0.5213, tol=0.01,\n",
       "                                           tree_method=None,\n",
       "                                           validate_parameters=None,\n",
       "                                           verbosity=None),\n",
       "                    n_jobs=-1)"
      ]
     },
     "execution_count": 67,
     "metadata": {},
     "output_type": "execute_result"
    },
    {
     "data": {
      "text/plain": [
       "0.7634726326157308"
      ]
     },
     "execution_count": 67,
     "metadata": {},
     "output_type": "execute_result"
    },
    {
     "name": "stdout",
     "output_type": "stream",
     "text": [
      "\n",
      "------------- Fold 5 -------------\n"
     ]
    },
    {
     "data": {
      "text/plain": [
       "OneVsRestClassifier(estimator=XGBRegressor(base_score=None, booster=None,\n",
       "                                           colsample_bylevel=None,\n",
       "                                           colsample_bynode=None,\n",
       "                                           colsample_bytree=0.6, gamma=0.1,\n",
       "                                           gpu_id=None, importance_type='gain',\n",
       "                                           interaction_constraints=None,\n",
       "                                           learning_rate=0.05,\n",
       "                                           max_delta_step=None, max_depth=6,\n",
       "                                           min_child_weight=1.5, missing=nan,\n",
       "                                           monotone_constraints=None,\n",
       "                                           n_estimators=2000,\n",
       "                                           n_iter_no_change=5, n_jobs=None,\n",
       "                                           nthread=-1, num_parallel_tree=None,\n",
       "                                           random_state=7, reg_alpha=None,\n",
       "                                           reg_lambda=None,\n",
       "                                           scale_pos_weight=None,\n",
       "                                           subsample=0.5213, tol=0.01,\n",
       "                                           tree_method=None,\n",
       "                                           validate_parameters=None,\n",
       "                                           verbosity=None),\n",
       "                    n_jobs=-1)"
      ]
     },
     "execution_count": 67,
     "metadata": {},
     "output_type": "execute_result"
    },
    {
     "data": {
      "text/plain": [
       "0.7497149372862031"
      ]
     },
     "execution_count": 67,
     "metadata": {},
     "output_type": "execute_result"
    }
   ],
   "source": [
    "n=5\n",
    "kf = KFold(n_splits=n, shuffle=True)\n",
    "\n",
    "#results = []\n",
    "oofs_xgb = np.zeros((len(x_train_meta),25))\n",
    "\n",
    "for fold_, (train_index, val_index) in enumerate(kf.split(x_train_meta,y_train)):\n",
    "    print(f'\\n------------- Fold {fold_ + 1} -------------')\n",
    "    \n",
    "  # splitting Dataframe (dataset not included)\n",
    "    train_df = x_train_meta.iloc[train_index]\n",
    "    val_df = x_train_meta.iloc[val_index]\n",
    "    y_train_df = y_train.iloc[train_index]\n",
    "    y_val_df = y_train.iloc[val_index]\n",
    "    # Defining Model\n",
    "    #model = MultiLabelClassificationModel(\"xlm-roberta\", model_name='google/electra-large-discriminator', num_labels=25,use_cuda=True,\n",
    "    model_xgb = xgb.XGBRegressor(colsample_bytree=0.6, gamma=0.1, \n",
    "                             learning_rate=0.05, max_depth=6, \n",
    "                             min_child_weight=1.5, n_estimators=2000,\n",
    "                             #reg_alpha=0.4640, reg_lambda=0.8571,\n",
    "                             subsample=0.5213, \n",
    "                             random_state =7, nthread = -1, n_iter_no_change=5, tol=0.01)\n",
    "        \n",
    "    model = OneVsRestClassifier(model_xgb, n_jobs=-1)\n",
    "  # train the model\n",
    "    model.fit(train_df,y_train_df)\n",
    "  # validate the model \n",
    "    #result, model_outputs, wrong_predictions = model.eval_model(val_df, acc=accuracy_score)\n",
    "    #print(result['acc'])\n",
    "  # append model score\n",
    "    #results.append(result['acc'])\n",
    "    \n",
    "    preds_val = model.predict(val_df)\n",
    "    f1_score(y_val_df, preds_val, average='micro')\n",
    "    \n",
    "    oofs_xgb[val_index] = preds_val"
   ]
  },
  {
   "cell_type": "code",
   "execution_count": 70,
   "metadata": {},
   "outputs": [],
   "source": [
    "xgb_preds = model.predict(x_test_meta)"
   ]
  },
  {
   "cell_type": "code",
   "execution_count": 75,
   "metadata": {},
   "outputs": [],
   "source": [
    "xgb_preds = pd.DataFrame(xgb_preds)"
   ]
  },
  {
   "cell_type": "code",
   "execution_count": 88,
   "metadata": {},
   "outputs": [],
   "source": [
    "xgb_preds.to_csv('xgb_preds.csv', index=False)"
   ]
  },
  {
   "cell_type": "code",
   "execution_count": 83,
   "metadata": {},
   "outputs": [],
   "source": [
    "oofs_xgb = pd.DataFrame(oofs_xgb)"
   ]
  },
  {
   "cell_type": "code",
   "execution_count": 89,
   "metadata": {},
   "outputs": [],
   "source": [
    "oofs_xgb.to_csv('oofs_xgb.csv', index=False)"
   ]
  },
  {
   "cell_type": "code",
   "execution_count": 90,
   "metadata": {},
   "outputs": [
    {
     "name": "stdout",
     "output_type": "stream",
     "text": [
      "\n",
      "------------- Fold 1 -------------\n"
     ]
    },
    {
     "data": {
      "text/plain": [
       "OneVsRestClassifier(estimator=<catboost.core.CatBoostRegressor object at 0x7fe552dbc810>,\n",
       "                    n_jobs=-1)"
      ]
     },
     "execution_count": 90,
     "metadata": {},
     "output_type": "execute_result"
    },
    {
     "data": {
      "text/plain": [
       "0.7518113368376189"
      ]
     },
     "execution_count": 90,
     "metadata": {},
     "output_type": "execute_result"
    },
    {
     "name": "stdout",
     "output_type": "stream",
     "text": [
      "\n",
      "------------- Fold 2 -------------\n"
     ]
    },
    {
     "data": {
      "text/plain": [
       "OneVsRestClassifier(estimator=<catboost.core.CatBoostRegressor object at 0x7fe552dbca90>,\n",
       "                    n_jobs=-1)"
      ]
     },
     "execution_count": 90,
     "metadata": {},
     "output_type": "execute_result"
    },
    {
     "data": {
      "text/plain": [
       "0.7548505877354483"
      ]
     },
     "execution_count": 90,
     "metadata": {},
     "output_type": "execute_result"
    },
    {
     "name": "stdout",
     "output_type": "stream",
     "text": [
      "\n",
      "------------- Fold 3 -------------\n"
     ]
    },
    {
     "data": {
      "text/plain": [
       "OneVsRestClassifier(estimator=<catboost.core.CatBoostRegressor object at 0x7fe552dae590>,\n",
       "                    n_jobs=-1)"
      ]
     },
     "execution_count": 90,
     "metadata": {},
     "output_type": "execute_result"
    },
    {
     "data": {
      "text/plain": [
       "0.7523475823405745"
      ]
     },
     "execution_count": 90,
     "metadata": {},
     "output_type": "execute_result"
    },
    {
     "name": "stdout",
     "output_type": "stream",
     "text": [
      "\n",
      "------------- Fold 4 -------------\n"
     ]
    },
    {
     "data": {
      "text/plain": [
       "OneVsRestClassifier(estimator=<catboost.core.CatBoostRegressor object at 0x7fe552daea90>,\n",
       "                    n_jobs=-1)"
      ]
     },
     "execution_count": 90,
     "metadata": {},
     "output_type": "execute_result"
    },
    {
     "data": {
      "text/plain": [
       "0.7429769392033544"
      ]
     },
     "execution_count": 90,
     "metadata": {},
     "output_type": "execute_result"
    },
    {
     "name": "stdout",
     "output_type": "stream",
     "text": [
      "\n",
      "------------- Fold 5 -------------\n"
     ]
    },
    {
     "data": {
      "text/plain": [
       "OneVsRestClassifier(estimator=<catboost.core.CatBoostRegressor object at 0x7fe556f9bfd0>,\n",
       "                    n_jobs=-1)"
      ]
     },
     "execution_count": 90,
     "metadata": {},
     "output_type": "execute_result"
    },
    {
     "data": {
      "text/plain": [
       "0.7571048579028419"
      ]
     },
     "execution_count": 90,
     "metadata": {},
     "output_type": "execute_result"
    }
   ],
   "source": [
    "n=5\n",
    "kf = KFold(n_splits=n, shuffle=True)\n",
    "\n",
    "#results = []\n",
    "oofs_catb = np.zeros((len(x_train_meta),25))\n",
    "\n",
    "for fold_, (train_index, val_index) in enumerate(kf.split(x_train_meta,y_train)):\n",
    "    print(f'\\n------------- Fold {fold_ + 1} -------------')\n",
    "    \n",
    "  # splitting Dataframe (dataset not included)\n",
    "    train_df = x_train_meta.iloc[train_index]\n",
    "    val_df = x_train_meta.iloc[val_index]\n",
    "    y_train_df = y_train.iloc[train_index]\n",
    "    y_val_df = y_train.iloc[val_index]\n",
    "    # Defining Model\n",
    "    #model = MultiLabelClassificationModel(\"xlm-roberta\", model_name='google/electra-large-discriminator', num_labels=25,use_cuda=True,\n",
    "    model_catb = CatBoostRegressor(n_estimators = 3000,\n",
    "                       learning_rate = 0.1,\n",
    "                       rsm = 0.2, ## Analogous to colsample_bytree\n",
    "                       #random_state=2054, od_type='Iter', od_wait=10\n",
    "                       )\n",
    "        \n",
    "    model = OneVsRestClassifier(model_catb, n_jobs=-1)\n",
    "  # train the model\n",
    "    model.fit(train_df,y_train_df)\n",
    "  # validate the model \n",
    "    #result, model_outputs, wrong_predictions = model.eval_model(val_df, acc=accuracy_score)\n",
    "    #print(result['acc'])\n",
    "  # append model score\n",
    "    #results.append(result['acc'])\n",
    "    \n",
    "    preds_val = model.predict(val_df)\n",
    "    f1_score(y_val_df, preds_val, average='micro')\n",
    "    \n",
    "    oofs_catb[val_index] = preds_val"
   ]
  },
  {
   "cell_type": "code",
   "execution_count": 91,
   "metadata": {},
   "outputs": [],
   "source": [
    "catb_preds = model.predict(x_test_meta)"
   ]
  },
  {
   "cell_type": "code",
   "execution_count": 92,
   "metadata": {},
   "outputs": [],
   "source": [
    "catb_preds = pd.DataFrame(catb_preds)"
   ]
  },
  {
   "cell_type": "code",
   "execution_count": 93,
   "metadata": {},
   "outputs": [],
   "source": [
    "catb_preds.to_csv('catb_preds.csv', index=False)"
   ]
  },
  {
   "cell_type": "code",
   "execution_count": 94,
   "metadata": {},
   "outputs": [],
   "source": [
    "oofs_catb = pd.DataFrame(oofs_catb)"
   ]
  },
  {
   "cell_type": "code",
   "execution_count": 95,
   "metadata": {},
   "outputs": [],
   "source": [
    "oofs_catb.to_csv('oofs_catb.csv', index=False)"
   ]
  },
  {
   "cell_type": "code",
   "execution_count": null,
   "metadata": {},
   "outputs": [],
   "source": []
  },
  {
   "cell_type": "code",
   "execution_count": 96,
   "metadata": {},
   "outputs": [],
   "source": [
    "x_train = train[cat_cols]\n",
    "x_test = test[cat_cols]\n",
    "y_train = train[target_cols]"
   ]
  },
  {
   "cell_type": "code",
   "execution_count": 97,
   "metadata": {},
   "outputs": [],
   "source": [
    "x_train_meta = pd.concat((x_train,\n",
    "                          oofs_lgb,\n",
    "                          oofs_xgb,\n",
    "                          oofs_catb\n",
    "                         ),axis=1)"
   ]
  },
  {
   "cell_type": "code",
   "execution_count": 100,
   "metadata": {},
   "outputs": [],
   "source": [
    "x_train_meta.columns = range(79)"
   ]
  },
  {
   "cell_type": "code",
   "execution_count": 101,
   "metadata": {},
   "outputs": [],
   "source": [
    "x_test_meta = pd.concat((x_test,\n",
    "                         lgb_preds,\n",
    "                         xgb_preds,\n",
    "                         catb_preds\n",
    "                        ),axis=1)"
   ]
  },
  {
   "cell_type": "code",
   "execution_count": 102,
   "metadata": {},
   "outputs": [],
   "source": [
    "x_test_meta.columns = range(79)"
   ]
  }
 ],
 "metadata": {
  "kernelspec": {
   "display_name": "Python 3",
   "language": "python",
   "name": "python3"
  },
  "language_info": {
   "codemirror_mode": {
    "name": "ipython",
    "version": 3
   },
   "file_extension": ".py",
   "mimetype": "text/x-python",
   "name": "python",
   "nbconvert_exporter": "python",
   "pygments_lexer": "ipython3",
   "version": "3.8.5"
  }
 },
 "nbformat": 4,
 "nbformat_minor": 4
}
